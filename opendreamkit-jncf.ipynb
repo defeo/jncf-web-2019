{
 "cells": [
  {
   "cell_type": "markdown",
   "metadata": {
    "slideshow": {
     "slide_type": "slide"
    }
   },
   "source": [
    "# The OpenDreamKit project, 2015–2019\n",
    "\n",
    "by Luca De Feo  \n",
    "JNCF 2019, CIRM Luminy, February 4, 2019\n",
    "\n",
    "[![launch binder](https://mybinder.org/badge.svg)](https://mybinder.org/v2/gh/defeo/jncf-web-2019/odk-jncf?filepath=opendreamkit-jncf.ipynb)"
   ]
  },
  {
   "cell_type": "markdown",
   "metadata": {
    "slideshow": {
     "slide_type": "slide"
    }
   },
   "source": [
    "## What is OpenDreamKit?\n",
    "\n",
    "<https://opendreamkit.org>"
   ]
  },
  {
   "cell_type": "markdown",
   "metadata": {
    "slideshow": {
     "slide_type": "fragment"
    }
   },
   "source": [
    "### For millenials: <https://youtu.be/CL3A7UQmWKE>"
   ]
  },
  {
   "cell_type": "markdown",
   "metadata": {
    "slideshow": {
     "slide_type": "subslide"
    }
   },
   "source": [
    "### For dinosaurs\n",
    "\n",
    "Source <https://opendreamkit.org/about-mathematicians/>\n",
    "    \n",
    "#### Goals: \n",
    "    \n",
    "- Advance tools for computational mathematics,\n",
    "- Support *open source*, *open science*, *open etc.*"
   ]
  },
  {
   "cell_type": "markdown",
   "metadata": {
    "slideshow": {
     "slide_type": "subslide"
    }
   },
   "source": [
    "#### Participants\n",
    "\n",
    "- CASs: GAP, PARI/GP, SageMath, Singular,\n",
    "- Libraries: Flint, Linbox, MPIR,\n",
    "- Databases: LMFDB,\n",
    "- User Interfaces: Jupyter/IPython,\n",
    "\n",
    "**Target audience:** Researchers, Teachers, Engineers, ..."
   ]
  },
  {
   "cell_type": "markdown",
   "metadata": {
    "slideshow": {
     "slide_type": "slide"
    }
   },
   "source": [
    "### The philosophy\n",
    "\n",
    "#### Context\n",
    "\n",
    "- Different people have different needs,\n",
    "- No one in the open source world (except W. Stein, maybe?) has the resources to maintain a do-it-all cloud-based system,\n",
    "- The project only lasts 4 years,"
   ]
  },
  {
   "cell_type": "markdown",
   "metadata": {
    "slideshow": {
     "slide_type": "subslide"
    }
   },
   "source": [
    "#### Strategy\n",
    "\n",
    "- Build a **toolkit** rather than a monolithic system,\n",
    "- Support a wide variety of different deployments:\n",
    "    - Local personal install,\n",
    "    - Research team server,\n",
    "    - University cloud,\n",
    "    - National/International grid,\n",
    "- Work closely with the community (developers, users),\n",
    "- Give support, not cloud servers."
   ]
  },
  {
   "cell_type": "markdown",
   "metadata": {
    "slideshow": {
     "slide_type": "slide"
    }
   },
   "source": [
    "### OpenDreamKit is\n",
    "\n",
    "- A European H2020 project,\n",
    "- 15 sites, more than 50 participants,\n",
    "- 7.6M€ in funding (also financing this JNCF edition).\n",
    "\n",
    "#### OpenDreamKit is ending\n",
    "\n",
    "- Project ends August 2019,\n",
    "- There is currently no European call a continuation of OpenDreamKit would fit in,\n",
    "- **Volounteers (leaders, visionaries, whatever brings money) wanted!**"
   ]
  },
  {
   "cell_type": "markdown",
   "metadata": {
    "slideshow": {
     "slide_type": "slide"
    }
   },
   "source": [
    "## Some highlights from the project"
   ]
  },
  {
   "cell_type": "markdown",
   "metadata": {
    "slideshow": {
     "slide_type": "slide"
    }
   },
   "source": [
    "### Jupyter\n",
    "\n",
    "Jupyter <https://jupyter.org> is the unified notebook interface for all OpenDreamKit systems:\n",
    "\n",
    "- GAP\n",
    "- PARI/GP\n",
    "- Singular\n",
    "- SageMah\n",
    "- Python ecosystem (including numpy, scipy, cypari2, gmpy, ...)\n",
    "\n",
    "Try them live: <https://opendreamkit.org/try/>"
   ]
  },
  {
   "cell_type": "markdown",
   "metadata": {
    "slideshow": {
     "slide_type": "subslide"
    }
   },
   "source": [
    "The usual \"look how cool!\" demo"
   ]
  },
  {
   "cell_type": "code",
   "execution_count": null,
   "metadata": {},
   "outputs": [],
   "source": [
    "1 + 1"
   ]
  },
  {
   "cell_type": "code",
   "execution_count": null,
   "metadata": {
    "slideshow": {
     "slide_type": "subslide"
    }
   },
   "outputs": [],
   "source": [
    "%matplotlib inline\n",
    "from ipywidgets import interactive, fixed\n",
    "from lorenz import solve_lorenz\n",
    "w=interactive(solve_lorenz,sigma=(0.0,50.0),rho=(0.0,50.0))\n",
    "w"
   ]
  },
  {
   "cell_type": "code",
   "execution_count": 2,
   "metadata": {
    "slideshow": {
     "slide_type": "subslide"
    }
   },
   "outputs": [
    {
     "data": {
      "image/jpeg": "[encoded data removed]",
      "text/html": [
       "\n",
       "        <iframe\n",
       "            width=\"400\"\n",
       "            height=\"300\"\n",
       "            src=\"https://www.youtube.com/embed/CL3A7UQmWKE\"\n",
       "            frameborder=\"0\"\n",
       "            allowfullscreen\n",
       "        ></iframe>\n",
       "        "
      ],
      "text/plain": [
       "<IPython.lib.display.YouTubeVideo at 0x7f4a4ccfea20>"
      ]
     },
     "execution_count": 2,
     "metadata": {},
     "output_type": "execute_result"
    }
   ],
   "source": [
    "from IPython.display import YouTubeVideo\n",
    "YouTubeVideo('CL3A7UQmWKE')"
   ]
  },
  {
   "cell_type": "markdown",
   "metadata": {
    "slideshow": {
     "slide_type": "subslide"
    }
   },
   "source": [
    "And, because Python... "
   ]
  },
  {
   "cell_type": "code",
   "execution_count": 3,
   "metadata": {
    "slideshow": {
     "slide_type": "skip"
    }
   },
   "outputs": [],
   "source": [
    "Infinity = 3"
   ]
  },
  {
   "cell_type": "code",
   "execution_count": 4,
   "metadata": {
    "slideshow": {
     "slide_type": "-"
    }
   },
   "outputs": [
    {
     "data": {
      "text/plain": [
       "True"
      ]
     },
     "execution_count": 4,
     "metadata": {},
     "output_type": "execute_result"
    }
   ],
   "source": [
    "3 is Infinity"
   ]
  },
  {
   "cell_type": "markdown",
   "metadata": {
    "slideshow": {
     "slide_type": "slide"
    }
   },
   "source": [
    "### But I hate notebooks!"
   ]
  },
  {
   "cell_type": "markdown",
   "metadata": {
    "slideshow": {
     "slide_type": "fragment"
    }
   },
   "source": [
    "We have you covered!\n",
    "\n",
    "#### Intoducing JupyterLab: <https://jupyter.org/try>\n",
    "\n",
    "- A full fledged web IDE, built around Jupyter,\n",
    "- Split views\n",
    "- Text editor, file explorer, system shell, and more..."
   ]
  },
  {
   "cell_type": "markdown",
   "metadata": {
    "slideshow": {
     "slide_type": "slide"
    }
   },
   "source": [
    "### For you, your team and your students\n",
    "\n",
    "#### Introducing JupyterHub\n",
    "\n",
    "- A cloud based environment, powered by Jupyter/JupyterLab,\n",
    "- Modular, pluggable authentication,\n",
    "- [From zero to JupyterHub in 100 lines of configuration](https://opendreamkit.org/2018/10/17/jupyterhub-docker/) (and one good sysadmin),\n",
    "- Scales over the grid.\n",
    "\n",
    "INSMI people, try it here: <https://sage6.math.cnrs.fr/hub/> (powered by Mathrice)"
   ]
  },
  {
   "cell_type": "markdown",
   "metadata": {
    "slideshow": {
     "slide_type": "slide"
    }
   },
   "source": [
    "### ...and for your colleagues\n",
    "\n",
    "#### Introducing Binder: <http://mybinder.org/>\n",
    "\n",
    "- Free, in the cloud, JupyterHub servers,\n",
    "- Configurable computational environment (based on Docker),\n",
    "- For showing your work, for reproducible science,\n",
    "- Federated... contribute resources if you have some!\n",
    "\n",
    "Self-promotion: <https://mybinder.org/v2/gh/defeo/ffisom/master?filepath=notebooks>"
   ]
  },
  {
   "cell_type": "markdown",
   "metadata": {
    "slideshow": {
     "slide_type": "slide"
    }
   },
   "source": [
    "### Other highlights\n",
    "\n",
    "- SageMath native port on Windows (since Sage 8.1),\n",
    "- PARI/GP has a two parallel engines,\n",
    "- GAP internals are now available as a standalone C library `libgap`,\n",
    "- Working on Anaconda packages for SageMath and GAP."
   ]
  }
 ],
 "metadata": {
  "celltoolbar": "Slideshow",
  "kernelspec": {
   "display_name": "Python 3",
   "language": "python",
   "name": "python3"
  },
  "language_info": {
   "codemirror_mode": {
    "name": "ipython",
    "version": 3
   },
   "file_extension": ".py",
   "mimetype": "text/x-python",
   "name": "python",
   "nbconvert_exporter": "python",
   "pygments_lexer": "ipython3",
   "version": "3.7.1"
  },
  "rise": {
   "autolaunch": true
  }
 },
 "nbformat": 4,
 "nbformat_minor": 2
}
